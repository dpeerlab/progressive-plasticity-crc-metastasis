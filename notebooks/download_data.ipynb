{
 "cells": [
  {
   "cell_type": "code",
   "execution_count": 298,
   "id": "46d41c2d-35de-4e93-ad78-d2e372c35880",
   "metadata": {
    "execution": {
     "iopub.execute_input": "2024-10-29T17:20:47.654917Z",
     "iopub.status.busy": "2024-10-29T17:20:47.654596Z",
     "iopub.status.idle": "2024-10-29T17:20:47.681942Z",
     "shell.execute_reply": "2024-10-29T17:20:47.681451Z",
     "shell.execute_reply.started": "2024-10-29T17:20:47.654895Z"
    },
    "tags": []
   },
   "outputs": [
    {
     "name": "stdout",
     "output_type": "stream",
     "text": [
      "The autoreload extension is already loaded. To reload it, use:\n",
      "  %reload_ext autoreload\n"
     ]
    }
   ],
   "source": [
    "%load_ext autoreload\n",
    "%autoreload 2"
   ]
  },
  {
   "cell_type": "code",
   "execution_count": 299,
   "id": "4e588df2-1dba-41b5-b9af-38fd7359cfa5",
   "metadata": {
    "execution": {
     "iopub.execute_input": "2024-10-29T17:20:47.833464Z",
     "iopub.status.busy": "2024-10-29T17:20:47.833074Z",
     "iopub.status.idle": "2024-10-29T17:20:47.857477Z",
     "shell.execute_reply": "2024-10-29T17:20:47.857016Z",
     "shell.execute_reply.started": "2024-10-29T17:20:47.833445Z"
    },
    "tags": []
   },
   "outputs": [],
   "source": [
    "from requirements import *\n",
    "import boto3"
   ]
  },
  {
   "cell_type": "markdown",
   "id": "9497daca-f0eb-4f70-ab62-04299e457023",
   "metadata": {},
   "source": [
    "## Download Source Data"
   ]
  },
  {
   "cell_type": "code",
   "execution_count": 297,
   "id": "554a293d-e26f-49dd-88f2-ffe73bd1081e",
   "metadata": {
    "execution": {
     "iopub.execute_input": "2024-10-29T17:20:17.716064Z",
     "iopub.status.busy": "2024-10-29T17:20:17.715748Z",
     "iopub.status.idle": "2024-10-29T17:20:18.646661Z",
     "shell.execute_reply": "2024-10-29T17:20:18.646169Z",
     "shell.execute_reply.started": "2024-10-29T17:20:17.716043Z"
    }
   },
   "outputs": [
    {
     "name": "stderr",
     "output_type": "stream",
     "text": [
      "28it [00:00, 31.47it/s]\n"
     ]
    }
   ],
   "source": [
    "s3 = boto3.client('s3')\n",
    "bucket_name = 'dp-lab-data-public'\n",
    "prefix = 'progressive-plasticity-crc-metastasis'\n",
    "data_bucket = boto3.resource('s3').Bucket(bucket_name)\n",
    "\n",
    "for obj in tqdm.tqdm(data_bucket.objects.filter(Prefix=prefix)):\n",
    "    src_path = obj.key\n",
    "    dst_path = obj.key.replace(prefix, str(data_dir))\n",
    "    s3.download_file(bucket_name, src_path, dst_path)"
   ]
  }
 ],
 "metadata": {
  "kernelspec": {
   "display_name": "Python 3 (ipykernel)",
   "language": "python",
   "name": "python3"
  },
  "language_info": {
   "codemirror_mode": {
    "name": "ipython",
    "version": 3
   },
   "file_extension": ".py",
   "mimetype": "text/x-python",
   "name": "python",
   "nbconvert_exporter": "python",
   "pygments_lexer": "ipython3",
   "version": "3.8.1"
  }
 },
 "nbformat": 4,
 "nbformat_minor": 5
}
