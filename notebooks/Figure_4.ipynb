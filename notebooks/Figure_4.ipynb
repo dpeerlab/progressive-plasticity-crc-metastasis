{
 "cells": [
  {
   "cell_type": "code",
   "execution_count": 107,
   "id": "75109198-3a92-414d-ad34-9fbb62693963",
   "metadata": {
    "execution": {
     "iopub.execute_input": "2024-10-29T00:37:21.735490Z",
     "iopub.status.busy": "2024-10-29T00:37:21.735145Z",
     "iopub.status.idle": "2024-10-29T00:37:21.764685Z",
     "shell.execute_reply": "2024-10-29T00:37:21.764180Z",
     "shell.execute_reply.started": "2024-10-29T00:37:21.735468Z"
    },
    "tags": []
   },
   "outputs": [
    {
     "name": "stdout",
     "output_type": "stream",
     "text": [
      "The autoreload extension is already loaded. To reload it, use:\n",
      "  %reload_ext autoreload\n"
     ]
    }
   ],
   "source": [
    "%load_ext autoreload\n",
    "%autoreload 2\n",
    "%matplotlib inline"
   ]
  },
  {
   "cell_type": "code",
   "execution_count": 166,
   "id": "6714aa7e-74b6-433b-a37d-fc44d3fb577e",
   "metadata": {
    "execution": {
     "iopub.execute_input": "2024-10-29T01:17:56.471464Z",
     "iopub.status.busy": "2024-10-29T01:17:56.471133Z",
     "iopub.status.idle": "2024-10-29T01:17:56.502029Z",
     "shell.execute_reply": "2024-10-29T01:17:56.501547Z",
     "shell.execute_reply.started": "2024-10-29T01:17:56.471444Z"
    },
    "scrolled": true,
    "tags": []
   },
   "outputs": [],
   "source": [
    "from utils.pp.preprocess import preprocess\n",
    "from utils.pl.plot_embedding import plot_embedding\n",
    "from utils.tl.transfer_labels import transfer_labels\n",
    "from utils.pl.plot_ternary import plot_kde\n",
    "from requirements import *"
   ]
  },
  {
   "cell_type": "markdown",
   "id": "5478eb79-6299-430e-bd33-908e5c60a512",
   "metadata": {},
   "source": [
    "## Import AnnDatas"
   ]
  },
  {
   "cell_type": "code",
   "execution_count": 95,
   "id": "a2aed545-d549-411a-9642-0b79be235082",
   "metadata": {
    "execution": {
     "iopub.execute_input": "2024-10-29T00:32:54.789647Z",
     "iopub.status.busy": "2024-10-29T00:32:54.789348Z",
     "iopub.status.idle": "2024-10-29T00:32:56.852337Z",
     "shell.execute_reply": "2024-10-29T00:32:56.851764Z",
     "shell.execute_reply.started": "2024-10-29T00:32:54.789627Z"
    },
    "tags": []
   },
   "outputs": [],
   "source": [
    "# Read in KG146 tumor data for mapping\n",
    "filepath = f'{data_dir}/h5ads/KG146_Tumor_Mapping_Reference.h5ad'\n",
    "ad_146 = sc.read_h5ad(filepath, backed=False)"
   ]
  },
  {
   "cell_type": "code",
   "execution_count": 96,
   "id": "ebd3cead-acac-4de4-a58c-7517face7c56",
   "metadata": {
    "execution": {
     "iopub.execute_input": "2024-10-29T00:32:56.853614Z",
     "iopub.status.busy": "2024-10-29T00:32:56.853340Z",
     "iopub.status.idle": "2024-10-29T00:32:58.799914Z",
     "shell.execute_reply": "2024-10-29T00:32:58.799351Z",
     "shell.execute_reply.started": "2024-10-29T00:32:56.853593Z"
    },
    "tags": []
   },
   "outputs": [],
   "source": [
    "# Read in KG146 organoid data\n",
    "filepath = f'{data_dir}/h5ads/KG146_shPROX1_Knockdown.h5ad'\n",
    "ad_146_kd = sc.read_h5ad(filepath, backed=False)"
   ]
  },
  {
   "cell_type": "markdown",
   "id": "5b87a459-dc5b-4810-9949-e79f192150ca",
   "metadata": {
    "execution": {
     "iopub.execute_input": "2024-10-28T23:50:13.027675Z",
     "iopub.status.busy": "2024-10-28T23:50:13.027119Z",
     "iopub.status.idle": "2024-10-28T23:50:13.054085Z",
     "shell.execute_reply": "2024-10-28T23:50:13.053599Z",
     "shell.execute_reply.started": "2024-10-28T23:50:13.027654Z"
    }
   },
   "source": [
    "## Figure 4a. Label mapping from patient data to shPROX1 knockdown organoids"
   ]
  },
  {
   "cell_type": "markdown",
   "id": "5ff70ddc-3aa5-4c29-aaaf-0f17868dc57a",
   "metadata": {},
   "source": [
    "### Get genes to use as feature space for mapping"
   ]
  },
  {
   "cell_type": "code",
   "execution_count": 98,
   "id": "231386eb-d3f9-4e29-830c-d608f575fb8d",
   "metadata": {
    "execution": {
     "iopub.execute_input": "2024-10-29T00:33:08.976110Z",
     "iopub.status.busy": "2024-10-29T00:33:08.975794Z",
     "iopub.status.idle": "2024-10-29T00:33:12.624017Z",
     "shell.execute_reply": "2024-10-29T00:33:12.623294Z",
     "shell.execute_reply.started": "2024-10-29T00:33:08.976091Z"
    }
   },
   "outputs": [],
   "source": [
    "# Get DEGs per cell state\n",
    "sc.tl.rank_genes_groups(\n",
    "    ad_146,\n",
    "    \"cell_state\",\n",
    "    layer='log',\n",
    "    use_raw=False,\n",
    "    method='wilcoxon',\n",
    ")"
   ]
  },
  {
   "cell_type": "code",
   "execution_count": 99,
   "id": "7c7aba72-a060-4236-822b-848635747b1c",
   "metadata": {
    "execution": {
     "iopub.execute_input": "2024-10-29T00:33:12.625646Z",
     "iopub.status.busy": "2024-10-29T00:33:12.625332Z",
     "iopub.status.idle": "2024-10-29T00:33:12.689923Z",
     "shell.execute_reply": "2024-10-29T00:33:12.689434Z",
     "shell.execute_reply.started": "2024-10-29T00:33:12.625626Z"
    }
   },
   "outputs": [],
   "source": [
    "# Get features to use for cell state mapping\n",
    "n_genes = 200\n",
    "degs = ad_146.uns['rank_genes_groups']\n",
    "cell_states = dict()\n",
    "keys = list(degs['names'].dtype.fields.keys())\n",
    "for key in keys:\n",
    "    genes = degs['names'][key]\n",
    "    mask = degs['logfoldchanges'][key] > 1\n",
    "    mask &= degs['pvals_adj'][key] < 0.001\n",
    "    mask &= pd.Index(genes).isin(ad_146_kd.var.index)\n",
    "    cell_states[key] = genes[mask][:n_genes].tolist()\n",
    "label_features = [v for vals in cell_states.values() for v in vals]"
   ]
  },
  {
   "cell_type": "markdown",
   "id": "860ac356-df9c-415d-b804-272ba560cbfd",
   "metadata": {},
   "source": [
    "### Perform label transfer on each organoid and condition"
   ]
  },
  {
   "cell_type": "code",
   "execution_count": 100,
   "id": "e4d97bbd-4a7b-4776-a4e4-2a13e0660343",
   "metadata": {
    "execution": {
     "iopub.execute_input": "2024-10-29T00:33:12.690865Z",
     "iopub.status.busy": "2024-10-29T00:33:12.690575Z",
     "iopub.status.idle": "2024-10-29T00:33:12.716547Z",
     "shell.execute_reply": "2024-10-29T00:33:12.716077Z",
     "shell.execute_reply.started": "2024-10-29T00:33:12.690846Z"
    }
   },
   "outputs": [],
   "source": [
    "# Columns to retain after co-embedding\n",
    "keep_cols = [\n",
    "    'sample_id',\n",
    "    'label_group',\n",
    "    'cell_state',\n",
    "    'original_line',\n",
    "    'genotype',\n",
    "]"
   ]
  },
  {
   "cell_type": "code",
   "execution_count": 101,
   "id": "e1425a56-4a52-4599-9e69-accde114bfcc",
   "metadata": {
    "execution": {
     "iopub.execute_input": "2024-10-29T00:33:13.674743Z",
     "iopub.status.busy": "2024-10-29T00:33:13.674394Z",
     "iopub.status.idle": "2024-10-29T00:35:18.230619Z",
     "shell.execute_reply": "2024-10-29T00:35:18.230018Z",
     "shell.execute_reply.started": "2024-10-29T00:33:13.674725Z"
    }
   },
   "outputs": [
    {
     "name": "stderr",
     "output_type": "stream",
     "text": [
      "100%|██████████| 4/4 [02:04<00:00, 31.13s/it]\n"
     ]
    }
   ],
   "source": [
    "from tqdm import tqdm\n",
    "\n",
    "# Reference and unlabeled group\n",
    "ad_146.obs['label_group'] = 'reference'\n",
    "ad_146_kd.obs['label_group'] = 'unlabeled'\n",
    "labeled_ad = dict()\n",
    "\n",
    "# Label transfer is performed separately for each sample\n",
    "for name, group in tqdm(ad_146_kd.obs.groupby(['original_line', 'genotype'])):\n",
    "\n",
    "    # Coembed each sample with tumor AnnData (labeled reference)\n",
    "    ad_cmb = anndata.concat(\n",
    "        adatas=[ad_146, ad_146_kd[group.index]],\n",
    "        join=\"outer\",\n",
    "        label=\"label_group\",\n",
    "        keys=[\"reference\", \"unlabeled\"],\n",
    "        index_unique=None,\n",
    "    )\n",
    "    ad_cmb.obsm.clear()\n",
    "    ad_cmb.obs = ad_cmb.obs[keep_cols]\n",
    "\n",
    "    # Re-process data after co-embedding\n",
    "    kwargs = dict(\n",
    "        hvgs=label_features, show_progress=False,\n",
    "        cluster=False, neighbors=False, umap=False, impute=False,\n",
    "    )\n",
    "    ad_cmb = preprocess(ad_cmb, **kwargs)\n",
    "\n",
    "    # Transfer labels from tumor to organoid\n",
    "    transfer_labels(ad_cmb, label_column='cell_state', knn=30, mnn=60)\n",
    "    labeled_ad[name] = ad_cmb"
   ]
  },
  {
   "cell_type": "code",
   "execution_count": 102,
   "id": "4b4ddd9a-b279-43ef-ba36-efde27d99455",
   "metadata": {
    "execution": {
     "iopub.execute_input": "2024-10-29T00:35:18.232073Z",
     "iopub.status.busy": "2024-10-29T00:35:18.231792Z",
     "iopub.status.idle": "2024-10-29T00:35:18.295231Z",
     "shell.execute_reply": "2024-10-29T00:35:18.294741Z",
     "shell.execute_reply.started": "2024-10-29T00:35:18.232054Z"
    }
   },
   "outputs": [],
   "source": [
    "# Transfer organoid labels back to original AnnData\n",
    "columns = [f'P({state})' for state in cell_states.keys()]  # probabilities\n",
    "columns += ['cell_state']  # label\n",
    "\n",
    "for ad in labeled_ad.values():\n",
    "    ixn = ad_146_kd.obs.index.intersection(ad.obs.index)\n",
    "    ad_146_kd.obs.loc[ixn, columns] = ad.obs[columns]"
   ]
  },
  {
   "cell_type": "code",
   "execution_count": 103,
   "id": "e260fd56-4956-4cdb-b402-8f29c2ab9556",
   "metadata": {
    "execution": {
     "iopub.execute_input": "2024-10-29T00:35:18.296167Z",
     "iopub.status.busy": "2024-10-29T00:35:18.295989Z",
     "iopub.status.idle": "2024-10-29T00:35:18.328673Z",
     "shell.execute_reply": "2024-10-29T00:35:18.328203Z",
     "shell.execute_reply.started": "2024-10-29T00:35:18.296149Z"
    }
   },
   "outputs": [],
   "source": [
    "# Aggregate probabilities over 3 axes/groups of cell states\n",
    "label_map = {\n",
    "    'ISC/TA-like': [\"Proliferative\", \"ISC\"],\n",
    "    'Diff. Intestine-like': [\"Absorptive\", \"Secretory\"],\n",
    "    'Non-Canonical': [\"Injury Repair\", \"Neuroendocrine\", \"Fetal\", \"Squamous\"],\n",
    "}\n",
    "for key, vals in label_map.items():\n",
    "    prob = ad_146_kd.obs[[f\"P({v})\" for v in vals]].sum(axis=1)\n",
    "    ad_146_kd.obs[f\"P({key})\"] = prob"
   ]
  },
  {
   "cell_type": "markdown",
   "id": "01ad518a-ad09-4042-bb3c-99f3578da12b",
   "metadata": {},
   "source": [
    "### Visualize results as ternary plots"
   ]
  },
  {
   "cell_type": "code",
   "execution_count": 170,
   "id": "43e8649c-06e7-4b57-a7b5-569fc5ea2702",
   "metadata": {
    "execution": {
     "iopub.execute_input": "2024-10-29T01:19:56.401370Z",
     "iopub.status.busy": "2024-10-29T01:19:56.401043Z",
     "iopub.status.idle": "2024-10-29T01:19:56.787875Z",
     "shell.execute_reply": "2024-10-29T01:19:56.787388Z",
     "shell.execute_reply.started": "2024-10-29T01:19:56.401347Z"
    }
   },
   "outputs": [
    {
     "data": {
      "image/png": "[encoded data removed]",
      "text/plain": [
       "<Figure size 675x900 with 2 Axes>"
      ]
     },
     "metadata": {},
     "output_type": "display_data"
    }
   ],
   "source": [
    "plot_kde(\n",
    "    ad_146_kd.obs,\n",
    "    row='original_line',\n",
    "    row_order=['OKG146P', 'OKG146Li'],\n",
    "    x='P(Non-Canonical)',\n",
    "    y='genotype',\n",
    "    hue='sample_type',\n",
    "    palette=named_colors,\n",
    ")"
   ]
  }
 ],
 "metadata": {
  "kernelspec": {
   "display_name": "Python 3 (ipykernel)",
   "language": "python",
   "name": "python3"
  },
  "language_info": {
   "codemirror_mode": {
    "name": "ipython",
    "version": 3
   },
   "file_extension": ".py",
   "mimetype": "text/x-python",
   "name": "python",
   "nbconvert_exporter": "python",
   "pygments_lexer": "ipython3",
   "version": "3.8.1"
  }
 },
 "nbformat": 4,
 "nbformat_minor": 5
}
